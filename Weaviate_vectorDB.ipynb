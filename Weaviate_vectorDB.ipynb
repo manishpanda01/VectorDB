{
  "nbformat": 4,
  "nbformat_minor": 0,
  "metadata": {
    "colab": {
      "provenance": []
    },
    "kernelspec": {
      "name": "python3",
      "display_name": "Python 3"
    },
    "language_info": {
      "name": "python"
    }
  },
  "cells": [
    {
      "cell_type": "code",
      "execution_count": null,
      "metadata": {
        "id": "z6-Z65oJLsGr"
      },
      "outputs": [],
      "source": [
        "!pip install langchain\n",
        "!pip install openai\n",
        "!pip install weaviate-client\n"
      ]
    },
    {
      "cell_type": "code",
      "source": [
        "Weaviate_cluster = \"\" #cluster url\n",
        "Weaviate_api_key = \"\" #api\n",
        "OpenAI_api_key = \"\" #openai api"
      ],
      "metadata": {
        "id": "b5pm49DxL479"
      },
      "execution_count": null,
      "outputs": []
    },
    {
      "cell_type": "code",
      "source": [
        "from langchain.document_loaders import DirectoryLoader\n",
        "\n",
        "loader = DirectoryLoader(\"./data\",glob = \"**/*.pdf\")\n",
        "data = loader.load()"
      ],
      "metadata": {
        "id": "2STOT8C8Muiu"
      },
      "execution_count": null,
      "outputs": []
    },
    {
      "cell_type": "code",
      "source": [
        "from langchain.text_splitter import RecursiveCharacterTextSplitter\n",
        "\n",
        "text_splitter = RecursiveCharaterTextSplitter(chunk_size = 500,chunk_overlap = 30)\n",
        "doc = text_splitter.split_documents(data)"
      ],
      "metadata": {
        "id": "8CiE9TCENuy-"
      },
      "execution_count": null,
      "outputs": []
    },
    {
      "cell_type": "code",
      "source": [
        "from langchain.emeddings.openai import OpenAIEmbeddings\n",
        "\n",
        "embeddings = OpenAIEmbeddings(openai_api_key = OpenAI_api_key)"
      ],
      "metadata": {
        "id": "LRq2zEHkOOCP"
      },
      "execution_count": null,
      "outputs": []
    },
    {
      "cell_type": "code",
      "source": [
        "import weaviate\n",
        "from langchain.vectorstores import weaviate\n",
        "\n",
        "auth_config = weaviate.auth.AuthApiKey(api_key = Weaviate_api_key)\n",
        "WEAVIATE_URL = Weaviate_cluster\n",
        "\n",
        "client = weaviate.Client(\n",
        "    url = WEAVIATE_URL,\n",
        "    additional_headers = {\"X-OpenAI-Api-key\": OpenAI_api_key},\n",
        "    auth_client_secret = auth_config,\n",
        "    startup_period = 10\n",
        ")"
      ],
      "metadata": {
        "id": "WPrkeDOEOtoT"
      },
      "execution_count": null,
      "outputs": []
    },
    {
      "cell_type": "code",
      "source": [
        "#Wrtie the schema"
      ],
      "metadata": {
        "id": "CD-I7y9LQOeN"
      },
      "execution_count": null,
      "outputs": []
    },
    {
      "cell_type": "code",
      "source": [
        "text_meta_pair = [(doc.page_content, doc.metadata) for doc in doc]\n",
        "texts, meta = list(zip(*text_meta_pair))\n",
        "vectorstore.add_texts(texts, meta)"
      ],
      "metadata": {
        "id": "2GuXalaHSj28"
      },
      "execution_count": null,
      "outputs": []
    },
    {
      "cell_type": "code",
      "source": [
        "query = \"\"\n",
        "\n",
        "doc = vectorstore.similarity_search(query, k = 20)"
      ],
      "metadata": {
        "id": "LHkwdvNHTREs"
      },
      "execution_count": null,
      "outputs": []
    },
    {
      "cell_type": "code",
      "source": [
        "from langchain.chains.question_answering import load_qa_chain\n",
        "from langchain.llms import QpenAI\n",
        "\n",
        "chain = load_qa_chain(\n",
        "    OpenAI(openai_api_key = OpenAI_api_key, temperature = 0),\n",
        "    chain_type = \"stuff\"\n",
        ")"
      ],
      "metadata": {
        "id": "RymAaaOWTyPn"
      },
      "execution_count": null,
      "outputs": []
    },
    {
      "cell_type": "code",
      "source": [
        "chain.run(input_documents = docs, question = query)"
      ],
      "metadata": {
        "id": "5DXl70DtU3FU"
      },
      "execution_count": null,
      "outputs": []
    }
  ]
}