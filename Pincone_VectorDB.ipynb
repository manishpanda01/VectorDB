{
  "nbformat": 4,
  "nbformat_minor": 0,
  "metadata": {
    "colab": {
      "provenance": []
    },
    "kernelspec": {
      "name": "python3",
      "display_name": "Python 3"
    },
    "language_info": {
      "name": "python"
    }
  },
  "cells": [
    {
      "cell_type": "code",
      "execution_count": null,
      "metadata": {
        "id": "d-Jt7KweAGcM"
      },
      "outputs": [],
      "source": [
        "!pip install langchain #langchain\n",
        "!pip install pincone-client #to connect to the pincone client\n",
        "!pip install pypdf #To load the pdf data"
      ]
    },
    {
      "cell_type": "code",
      "source": [
        "!pip install openai\n",
        "!pip install tiktoken"
      ],
      "metadata": {
        "id": "SesSEEmQAsu-"
      },
      "execution_count": null,
      "outputs": []
    },
    {
      "cell_type": "code",
      "source": [
        "from langchain.document_loaders import PyPDFDirectoryLoader\n",
        "from langchain.text_splitter import RecursiveCharacterTextSplitter\n",
        "from langchain.embeddings import OpenAIEmbeddings\n",
        "from langchain.llms import OpenAI\n",
        "from langchain.vectorstores import Pinecone\n",
        "from langchain.chains import RetrievalQA\n",
        "from langchain.prompts import PromptTemplate"
      ],
      "metadata": {
        "id": "2AMwsbrbA4mL"
      },
      "execution_count": null,
      "outputs": []
    },
    {
      "cell_type": "code",
      "source": [
        "import os"
      ],
      "metadata": {
        "id": "3358GM0MBpjq"
      },
      "execution_count": null,
      "outputs": []
    },
    {
      "cell_type": "code",
      "source": [
        "#Load the pdf\n",
        "!mkdir pdfs\n",
        "\n",
        "!gdown\n",
        "!gdown"
      ],
      "metadata": {
        "id": "paLNcov4BrDg"
      },
      "execution_count": null,
      "outputs": []
    },
    {
      "cell_type": "code",
      "source": [
        "loader = PyPDFDirectoryLoader(\"pdfs\")\n",
        "data = loader.load()"
      ],
      "metadata": {
        "id": "V-fd1RmYBq5F"
      },
      "execution_count": null,
      "outputs": []
    },
    {
      "cell_type": "code",
      "source": [
        "data"
      ],
      "metadata": {
        "id": "ZkrfAMClCS5x"
      },
      "execution_count": null,
      "outputs": []
    },
    {
      "cell_type": "code",
      "source": [
        "#Chunking time\n",
        "\n",
        "text_splitter = RecursiveCharacterTextSplitter(chunk_size = 500,chunk_overlap = 30)\n",
        "text_chunks = text_splitter.split_documents(data)"
      ],
      "metadata": {
        "id": "gvPo9wY2CXca"
      },
      "execution_count": null,
      "outputs": []
    },
    {
      "cell_type": "code",
      "source": [
        "len(text_chunks)"
      ],
      "metadata": {
        "id": "CJnglbiJC3bR"
      },
      "execution_count": null,
      "outputs": []
    },
    {
      "cell_type": "code",
      "source": [
        "import os\n",
        "\n",
        "os.environ['OPENAI_API_KEY'] = \"PUT your KEY\""
      ],
      "metadata": {
        "id": "Vmh66JVWC7E7"
      },
      "execution_count": null,
      "outputs": []
    },
    {
      "cell_type": "code",
      "source": [
        "embeddings = OpenAIEmbeddings()"
      ],
      "metadata": {
        "id": "kOvoBBZYDKR0"
      },
      "execution_count": null,
      "outputs": []
    },
    {
      "cell_type": "code",
      "source": [
        "res = embeddings.embed_query(\"Hi\")"
      ],
      "metadata": {
        "id": "-gXliIRnDQrb"
      },
      "execution_count": null,
      "outputs": []
    },
    {
      "cell_type": "code",
      "source": [
        "len(res) #1536"
      ],
      "metadata": {
        "id": "J351aa3YFlCv"
      },
      "execution_count": null,
      "outputs": []
    },
    {
      "cell_type": "code",
      "source": [
        "#Pinecone API and Environment\n",
        "\n",
        "PINECONE_API_KEY = os.environ.get('PINECONE_API_KEY','')\n",
        "PINECONE_API_ENV = os.environ.get('PINECONE_API_ENV','')"
      ],
      "metadata": {
        "id": "SOszd8_jE3P_"
      },
      "execution_count": null,
      "outputs": []
    },
    {
      "cell_type": "code",
      "source": [
        "#Initialise pinecone\n",
        "\n",
        "import pinecone\n",
        "pinecone.init(\n",
        "    api_key = PINECONE_API_KEY,\n",
        "    environment=PINECONE_API_ENV\n",
        ")\n",
        "\n",
        "index_name = \"VectorDB\" #Create an index on pinecone website,can name it any."
      ],
      "metadata": {
        "id": "Jq2GhLEiF52O"
      },
      "execution_count": null,
      "outputs": []
    },
    {
      "cell_type": "code",
      "source": [
        "search = Pinecone.from_texts([t.page_content for t in text_chunks],embeddings,index_name=index_name) #list comprehension in python"
      ],
      "metadata": {
        "id": "XXpw2Gr5GhqK"
      },
      "execution_count": null,
      "outputs": []
    },
    {
      "cell_type": "code",
      "source": [
        "#Loading pre-existing index/cluster\n",
        "\n",
        "search = Pinecone.from_existing_index(index_name,embeddings)\n",
        "search"
      ],
      "metadata": {
        "id": "zn56FluyHB3l"
      },
      "execution_count": null,
      "outputs": []
    },
    {
      "cell_type": "code",
      "source": [
        "query = \"What is GDP?\""
      ],
      "metadata": {
        "id": "s3qP7JeZH-uM"
      },
      "execution_count": null,
      "outputs": []
    },
    {
      "cell_type": "code",
      "source": [
        "docs = search.similarity_search(query,k=3)\n",
        "docs"
      ],
      "metadata": {
        "id": "7Ga1d6qTIIUe"
      },
      "execution_count": null,
      "outputs": []
    },
    {
      "cell_type": "code",
      "source": [
        "#LLM wrapper\n",
        "llm = OpenAI()\n",
        "\n",
        "q_a = RetrievalQA.from_chain_type(llm = llm,chain_type=\"stuff\",retriever=search.as_retriever())"
      ],
      "metadata": {
        "id": "gVT8zj_eIS03"
      },
      "execution_count": null,
      "outputs": []
    },
    {
      "cell_type": "code",
      "source": [
        "q_a.run(query)"
      ],
      "metadata": {
        "id": "NezTPEocI3-u"
      },
      "execution_count": null,
      "outputs": []
    },
    {
      "cell_type": "code",
      "source": [
        "import sys\n",
        "while True:\n",
        "  user_input = input(f\"Input Prompt\")\n",
        "  if user_input == 'exit':\n",
        "    print(\"Exiting\")\n",
        "    sys.exit()\n",
        "  if user_input =='':\n",
        "    continue\n",
        "  result =q_a({'query': user_input})\n",
        "  print(f\"Answer : {result['result']}\")"
      ],
      "metadata": {
        "id": "ejflOj0JJS9k"
      },
      "execution_count": null,
      "outputs": []
    }
  ]
}